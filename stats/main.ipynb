{
 "cells": [
  {
   "cell_type": "code",
   "execution_count": 19,
   "metadata": {},
   "outputs": [
    {
     "name": "stderr",
     "output_type": "stream",
     "text": [
      "C:\\Users\\wilia\\AppData\\Local\\Temp\\ipykernel_26152\\226353492.py:35: FutureWarning: Downcasting behavior in `replace` is deprecated and will be removed in a future version. To retain the old behavior, explicitly call `result.infer_objects(copy=False)`. To opt-in to the future behavior, set `pd.set_option('future.no_silent_downcasting', True)`\n",
      "  control.replace(valence_mapping, inplace=True)\n",
      "C:\\Users\\wilia\\AppData\\Local\\Temp\\ipykernel_26152\\226353492.py:36: FutureWarning: Downcasting behavior in `replace` is deprecated and will be removed in a future version. To retain the old behavior, explicitly call `result.infer_objects(copy=False)`. To opt-in to the future behavior, set `pd.set_option('future.no_silent_downcasting', True)`\n",
      "  control.replace(arousal_mapping, inplace=True)\n",
      "C:\\Users\\wilia\\AppData\\Local\\Temp\\ipykernel_26152\\226353492.py:39: FutureWarning: Downcasting behavior in `replace` is deprecated and will be removed in a future version. To retain the old behavior, explicitly call `result.infer_objects(copy=False)`. To opt-in to the future behavior, set `pd.set_option('future.no_silent_downcasting', True)`\n",
      "  ssml.replace(valence_mapping, inplace=True)\n",
      "C:\\Users\\wilia\\AppData\\Local\\Temp\\ipykernel_26152\\226353492.py:40: FutureWarning: Downcasting behavior in `replace` is deprecated and will be removed in a future version. To retain the old behavior, explicitly call `result.infer_objects(copy=False)`. To opt-in to the future behavior, set `pd.set_option('future.no_silent_downcasting', True)`\n",
      "  ssml.replace(arousal_mapping, inplace=True)\n"
     ]
    }
   ],
   "source": [
    "import numpy as np\n",
    "import matplotlib.pyplot as plt\n",
    "\n",
    "import numpy as np\n",
    "import pandas as pd\n",
    "import pingouin as pg\n",
    "import seaborn as sns\n",
    "from scipy.stats import pearsonr\n",
    "from scipy.stats import shapiro\n",
    "from scipy.stats import iqr\n",
    "\n",
    "control = pd.read_csv(\"data/control.csv\")\n",
    "ssml = pd.read_csv(\"data/with_SSML.csv\")\n",
    "\n",
    "mapping_dict = {\n",
    "    'Please rate the arousal level on a scale of low, mid, and high.': 'arousal',\n",
    "    'Please rate the valence(pleasure) level on a scale of negative, neutral, and positive.': 'valence'\n",
    "    # Add all mappings here\n",
    "}\n",
    "\n",
    "arousal_mapping = {\n",
    "    'Mid': 1,\n",
    "    'Low': 2,\n",
    "    'High': 3,\n",
    "    'Hight': 3\n",
    "}\n",
    "\n",
    "valence_mapping = {\n",
    "    'Negative': 1,\n",
    "    'Neutral': 2,\n",
    "    'Positive': 3\n",
    "}\n",
    "\n",
    "control.rename(columns=mapping_dict, inplace=True)\n",
    "control.replace(valence_mapping, inplace=True)\n",
    "control.replace(arousal_mapping, inplace=True)\n",
    "\n",
    "ssml.rename(columns=mapping_dict, inplace=True)\n",
    "ssml.replace(valence_mapping, inplace=True)\n",
    "ssml.replace(arousal_mapping, inplace=True)\n"
   ]
  },
  {
   "cell_type": "markdown",
   "metadata": {},
   "source": [
    "# Shapiro Wilk-Test"
   ]
  },
  {
   "cell_type": "code",
   "execution_count": 20,
   "metadata": {},
   "outputs": [
    {
     "name": "stdout",
     "output_type": "stream",
     "text": [
      "arousal: ShapiroResult(statistic=0.8333845641645437, pvalue=0.08613669465637135)\n",
      "valence: ShapiroResult(statistic=0.6644356291814653, pvalue=0.0014974413152577326)\n",
      "arousal: ShapiroResult(statistic=0.8333845641645437, pvalue=0.08613669465637135)\n",
      "valence: ShapiroResult(statistic=0.6644356291814653, pvalue=0.0014974413152577326)\n"
     ]
    }
   ],
   "source": [
    "# Shapiro Wilk Test\n",
    "\n",
    "print(\"starting test for normality for Control: \")\n",
    "\n",
    "for item in control: \n",
    "    if item == \"Timestamp\":\n",
    "        continue\n",
    "    \n",
    "    item_shapiro = shapiro(control[item])\n",
    "    print(str(item) + \": \" + str(item_shapiro))\n",
    "\n",
    "\n",
    "print(\"starting test for normality for SSML: \")\n",
    "\n",
    "    \n",
    "for item in ssml: \n",
    "    if item == \"Timestamp\":\n",
    "        continue\n",
    "    \n",
    "    item_shapiro = shapiro(control[item])\n",
    "    print(str(item) + \": \" + str(item_shapiro))\n",
    "\n"
   ]
  }
 ],
 "metadata": {
  "kernelspec": {
   "display_name": "base",
   "language": "python",
   "name": "python3"
  },
  "language_info": {
   "codemirror_mode": {
    "name": "ipython",
    "version": 3
   },
   "file_extension": ".py",
   "mimetype": "text/x-python",
   "name": "python",
   "nbconvert_exporter": "python",
   "pygments_lexer": "ipython3",
   "version": "3.12.4"
  }
 },
 "nbformat": 4,
 "nbformat_minor": 2
}
