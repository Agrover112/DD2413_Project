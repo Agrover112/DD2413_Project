{
 "cells": [
  {
   "cell_type": "code",
   "execution_count": 19,
   "metadata": {},
   "outputs": [
    {
     "name": "stderr",
     "output_type": "stream",
     "text": [
      "C:\\Users\\wilia\\AppData\\Local\\Temp\\ipykernel_24928\\1905046036.py:36: FutureWarning: Downcasting behavior in `replace` is deprecated and will be removed in a future version. To retain the old behavior, explicitly call `result.infer_objects(copy=False)`. To opt-in to the future behavior, set `pd.set_option('future.no_silent_downcasting', True)`\n",
      "  control.replace(valence_mapping, inplace=True)\n",
      "C:\\Users\\wilia\\AppData\\Local\\Temp\\ipykernel_24928\\1905046036.py:37: FutureWarning: Downcasting behavior in `replace` is deprecated and will be removed in a future version. To retain the old behavior, explicitly call `result.infer_objects(copy=False)`. To opt-in to the future behavior, set `pd.set_option('future.no_silent_downcasting', True)`\n",
      "  control.replace(arousal_mapping, inplace=True)\n",
      "C:\\Users\\wilia\\AppData\\Local\\Temp\\ipykernel_24928\\1905046036.py:40: FutureWarning: Downcasting behavior in `replace` is deprecated and will be removed in a future version. To retain the old behavior, explicitly call `result.infer_objects(copy=False)`. To opt-in to the future behavior, set `pd.set_option('future.no_silent_downcasting', True)`\n",
      "  ssml.replace(valence_mapping, inplace=True)\n",
      "C:\\Users\\wilia\\AppData\\Local\\Temp\\ipykernel_24928\\1905046036.py:41: FutureWarning: Downcasting behavior in `replace` is deprecated and will be removed in a future version. To retain the old behavior, explicitly call `result.infer_objects(copy=False)`. To opt-in to the future behavior, set `pd.set_option('future.no_silent_downcasting', True)`\n",
      "  ssml.replace(arousal_mapping, inplace=True)\n"
     ]
    }
   ],
   "source": [
    "import numpy as np\n",
    "import matplotlib.pyplot as plt\n",
    "\n",
    "import numpy as np\n",
    "import pandas as pd\n",
    "import pingouin as pg\n",
    "import seaborn as sns\n",
    "from scipy.stats import pearsonr\n",
    "from scipy.stats import shapiro\n",
    "from scipy.stats import iqr\n",
    "from scipy.stats import ttest_ind, mannwhitneyu, wilcoxon\n",
    "\n",
    "control = pd.read_csv(\"data/control.csv\")\n",
    "ssml = pd.read_csv(\"data/with_SSML.csv\")\n",
    "\n",
    "mapping_dict = {\n",
    "    'Please rate the arousal level on a scale of low, mid, and high.': 'arousal',\n",
    "    'Please rate the valence(pleasure) level on a scale of negative, neutral, and positive.': 'valence'\n",
    "    # Add all mappings here\n",
    "}\n",
    "\n",
    "arousal_mapping = {\n",
    "    'Mid': 1,\n",
    "    'Low': 2,\n",
    "    'High': 3,\n",
    "    'Hight': 3\n",
    "}\n",
    "\n",
    "valence_mapping = {\n",
    "    'Negative': 1,\n",
    "    'Neutral': 2,\n",
    "    'Positive': 3\n",
    "}\n",
    "\n",
    "control.rename(columns=mapping_dict, inplace=True)\n",
    "control.replace(valence_mapping, inplace=True)\n",
    "control.replace(arousal_mapping, inplace=True)\n",
    "\n",
    "ssml.rename(columns=mapping_dict, inplace=True)\n",
    "ssml.replace(valence_mapping, inplace=True)\n",
    "ssml.replace(arousal_mapping, inplace=True)\n"
   ]
  },
  {
   "cell_type": "markdown",
   "metadata": {},
   "source": [
    "# Shapiro Wilk-Test"
   ]
  },
  {
   "cell_type": "code",
   "execution_count": 20,
   "metadata": {},
   "outputs": [
    {
     "name": "stdout",
     "output_type": "stream",
     "text": [
      "starting test for normality for Control: \n",
      "arousal: ShapiroResult(statistic=0.8333845641645437, pvalue=0.08613669465637135)\n",
      "valence: ShapiroResult(statistic=0.6644356291814653, pvalue=0.0014974413152577326)\n",
      "starting test for normality for SSML: \n",
      "arousal: ShapiroResult(statistic=0.7751636660927114, pvalue=0.03473042549258452)\n",
      "valence: ShapiroResult(statistic=0.6398937048857263, pvalue=0.0013507528509294285)\n"
     ]
    }
   ],
   "source": [
    "# Shapiro Wilk Test\n",
    "\n",
    "print(\"starting test for normality for Control: \")\n",
    "\n",
    "for item in control: \n",
    "    if item == \"Timestamp\":\n",
    "        continue\n",
    "    \n",
    "    item_shapiro = shapiro(control[item])\n",
    "    print(str(item) + \": \" + str(item_shapiro))\n",
    "\n",
    "\n",
    "print(\"starting test for normality for SSML: \")\n",
    "\n",
    "    \n",
    "for item in ssml: \n",
    "    if item == \"Timestamp\":\n",
    "        continue\n",
    "    \n",
    "    item_shapiro = shapiro(ssml[item])\n",
    "    print(str(item) + \": \" + str(item_shapiro))\n",
    "\n"
   ]
  },
  {
   "cell_type": "markdown",
   "metadata": {},
   "source": [
    "# check for significance \n",
    "\n",
    "lets go brothers "
   ]
  },
  {
   "cell_type": "code",
   "execution_count": null,
   "metadata": {},
   "outputs": [
    {
     "name": "stdout",
     "output_type": "stream",
     "text": [
      "TtestResult(statistic=0.3252218177939943, pvalue=0.7511151158040683, df=11.0)\n",
      "TtestResult(statistic=0.3252218177939943, pvalue=0.7511151158040683, df=11.0)\n"
     ]
    },
    {
     "ename": "ValueError",
     "evalue": "operands could not be broadcast together with shapes (6,) (7,) ",
     "output_type": "error",
     "traceback": [
      "\u001b[1;31m---------------------------------------------------------------------------\u001b[0m",
      "\u001b[1;31mValueError\u001b[0m                                Traceback (most recent call last)",
      "Cell \u001b[1;32mIn[21], line 7\u001b[0m\n\u001b[0;32m      4\u001b[0m ssml_both \u001b[38;5;241m=\u001b[39m ttest_ind(ssml[\u001b[38;5;124m'\u001b[39m\u001b[38;5;124mvalence\u001b[39m\u001b[38;5;124m'\u001b[39m], control[\u001b[38;5;124m'\u001b[39m\u001b[38;5;124mvalence\u001b[39m\u001b[38;5;124m'\u001b[39m])\n\u001b[0;32m      5\u001b[0m \u001b[38;5;28mprint\u001b[39m(ssml_both)\n\u001b[1;32m----> 7\u001b[0m stat, p \u001b[38;5;241m=\u001b[39m wilcoxon(ssml[\u001b[38;5;124m'\u001b[39m\u001b[38;5;124mvalence\u001b[39m\u001b[38;5;124m'\u001b[39m], control[\u001b[38;5;124m'\u001b[39m\u001b[38;5;124mvalence\u001b[39m\u001b[38;5;124m'\u001b[39m])\n\u001b[0;32m      9\u001b[0m \u001b[38;5;66;03m# Mann-Whitney U Test (non-parametric, independent)\u001b[39;00m\n\u001b[0;32m     10\u001b[0m u_stat, u_p \u001b[38;5;241m=\u001b[39m mannwhitneyu(ssml[\u001b[38;5;124m'\u001b[39m\u001b[38;5;124mvalence\u001b[39m\u001b[38;5;124m'\u001b[39m], control[\u001b[38;5;124m'\u001b[39m\u001b[38;5;124mvalence\u001b[39m\u001b[38;5;124m'\u001b[39m])\n",
      "File \u001b[1;32mc:\\Users\\wilia\\anaconda3\\Lib\\site-packages\\scipy\\_lib\\_util.py:794\u001b[0m, in \u001b[0;36m_rename_parameter.<locals>.decorator.<locals>.wrapper\u001b[1;34m(*args, **kwargs)\u001b[0m\n\u001b[0;32m    792\u001b[0m         \u001b[38;5;28;01mraise\u001b[39;00m \u001b[38;5;167;01mTypeError\u001b[39;00m(message)\n\u001b[0;32m    793\u001b[0m     kwargs[new_name] \u001b[38;5;241m=\u001b[39m kwargs\u001b[38;5;241m.\u001b[39mpop(old_name)\n\u001b[1;32m--> 794\u001b[0m \u001b[38;5;28;01mreturn\u001b[39;00m fun(\u001b[38;5;241m*\u001b[39margs, \u001b[38;5;241m*\u001b[39m\u001b[38;5;241m*\u001b[39mkwargs)\n",
      "File \u001b[1;32mc:\\Users\\wilia\\anaconda3\\Lib\\site-packages\\scipy\\stats\\_axis_nan_policy.py:531\u001b[0m, in \u001b[0;36m_axis_nan_policy_factory.<locals>.axis_nan_policy_decorator.<locals>.axis_nan_policy_wrapper\u001b[1;34m(***failed resolving arguments***)\u001b[0m\n\u001b[0;32m    529\u001b[0m \u001b[38;5;28;01mif\u001b[39;00m sentinel:\n\u001b[0;32m    530\u001b[0m     samples \u001b[38;5;241m=\u001b[39m _remove_sentinel(samples, paired, sentinel)\n\u001b[1;32m--> 531\u001b[0m res \u001b[38;5;241m=\u001b[39m hypotest_fun_out(\u001b[38;5;241m*\u001b[39msamples, \u001b[38;5;241m*\u001b[39m\u001b[38;5;241m*\u001b[39mkwds)\n\u001b[0;32m    532\u001b[0m res \u001b[38;5;241m=\u001b[39m result_to_tuple(res)\n\u001b[0;32m    533\u001b[0m res \u001b[38;5;241m=\u001b[39m _add_reduced_axes(res, reduced_axes, keepdims)\n",
      "File \u001b[1;32mc:\\Users\\wilia\\anaconda3\\Lib\\site-packages\\scipy\\stats\\_morestats.py:4111\u001b[0m, in \u001b[0;36mwilcoxon\u001b[1;34m(x, y, zero_method, correction, alternative, method, axis)\u001b[0m\n\u001b[0;32m   3893\u001b[0m \u001b[38;5;129m@_rename_parameter\u001b[39m(\u001b[38;5;124m\"\u001b[39m\u001b[38;5;124mmode\u001b[39m\u001b[38;5;124m\"\u001b[39m, \u001b[38;5;124m\"\u001b[39m\u001b[38;5;124mmethod\u001b[39m\u001b[38;5;124m\"\u001b[39m)\n\u001b[0;32m   3894\u001b[0m \u001b[38;5;129m@_axis_nan_policy_factory\u001b[39m(\n\u001b[0;32m   3895\u001b[0m     wilcoxon_result_object, paired\u001b[38;5;241m=\u001b[39m\u001b[38;5;28;01mTrue\u001b[39;00m,\n\u001b[1;32m   (...)\u001b[0m\n\u001b[0;32m   3899\u001b[0m \u001b[38;5;28;01mdef\u001b[39;00m \u001b[38;5;21mwilcoxon\u001b[39m(x, y\u001b[38;5;241m=\u001b[39m\u001b[38;5;28;01mNone\u001b[39;00m, zero_method\u001b[38;5;241m=\u001b[39m\u001b[38;5;124m\"\u001b[39m\u001b[38;5;124mwilcox\u001b[39m\u001b[38;5;124m\"\u001b[39m, correction\u001b[38;5;241m=\u001b[39m\u001b[38;5;28;01mFalse\u001b[39;00m,\n\u001b[0;32m   3900\u001b[0m              alternative\u001b[38;5;241m=\u001b[39m\u001b[38;5;124m\"\u001b[39m\u001b[38;5;124mtwo-sided\u001b[39m\u001b[38;5;124m\"\u001b[39m, method\u001b[38;5;241m=\u001b[39m\u001b[38;5;124m'\u001b[39m\u001b[38;5;124mauto\u001b[39m\u001b[38;5;124m'\u001b[39m, \u001b[38;5;241m*\u001b[39m, axis\u001b[38;5;241m=\u001b[39m\u001b[38;5;241m0\u001b[39m):\n\u001b[0;32m   3901\u001b[0m \u001b[38;5;250m    \u001b[39m\u001b[38;5;124;03m\"\"\"Calculate the Wilcoxon signed-rank test.\u001b[39;00m\n\u001b[0;32m   3902\u001b[0m \n\u001b[0;32m   3903\u001b[0m \u001b[38;5;124;03m    The Wilcoxon signed-rank test tests the null hypothesis that two\u001b[39;00m\n\u001b[1;32m   (...)\u001b[0m\n\u001b[0;32m   4109\u001b[0m \n\u001b[0;32m   4110\u001b[0m \u001b[38;5;124;03m    \"\"\"\u001b[39;00m\n\u001b[1;32m-> 4111\u001b[0m     \u001b[38;5;28;01mreturn\u001b[39;00m _wilcoxon\u001b[38;5;241m.\u001b[39m_wilcoxon_nd(x, y, zero_method, correction, alternative,\n\u001b[0;32m   4112\u001b[0m                                   method, axis)\n",
      "File \u001b[1;32mc:\\Users\\wilia\\anaconda3\\Lib\\site-packages\\scipy\\stats\\_wilcoxon.py:199\u001b[0m, in \u001b[0;36m_wilcoxon_nd\u001b[1;34m(x, y, zero_method, correction, alternative, method, axis)\u001b[0m\n\u001b[0;32m    196\u001b[0m \u001b[38;5;28;01mdef\u001b[39;00m \u001b[38;5;21m_wilcoxon_nd\u001b[39m(x, y\u001b[38;5;241m=\u001b[39m\u001b[38;5;28;01mNone\u001b[39;00m, zero_method\u001b[38;5;241m=\u001b[39m\u001b[38;5;124m'\u001b[39m\u001b[38;5;124mwilcox\u001b[39m\u001b[38;5;124m'\u001b[39m, correction\u001b[38;5;241m=\u001b[39m\u001b[38;5;28;01mTrue\u001b[39;00m,\n\u001b[0;32m    197\u001b[0m                  alternative\u001b[38;5;241m=\u001b[39m\u001b[38;5;124m'\u001b[39m\u001b[38;5;124mtwo-sided\u001b[39m\u001b[38;5;124m'\u001b[39m, method\u001b[38;5;241m=\u001b[39m\u001b[38;5;124m'\u001b[39m\u001b[38;5;124mauto\u001b[39m\u001b[38;5;124m'\u001b[39m, axis\u001b[38;5;241m=\u001b[39m\u001b[38;5;241m0\u001b[39m):\n\u001b[1;32m--> 199\u001b[0m     temp \u001b[38;5;241m=\u001b[39m _wilcoxon_iv(x, y, zero_method, correction, alternative, method, axis)\n\u001b[0;32m    200\u001b[0m     d, zero_method, correction, alternative, method, axis, output_z \u001b[38;5;241m=\u001b[39m temp\n\u001b[0;32m    202\u001b[0m     \u001b[38;5;28;01mif\u001b[39;00m d\u001b[38;5;241m.\u001b[39msize \u001b[38;5;241m==\u001b[39m \u001b[38;5;241m0\u001b[39m:\n",
      "File \u001b[1;32mc:\\Users\\wilia\\anaconda3\\Lib\\site-packages\\scipy\\stats\\_wilcoxon.py:67\u001b[0m, in \u001b[0;36m_wilcoxon_iv\u001b[1;34m(x, y, zero_method, correction, alternative, method, axis)\u001b[0m\n\u001b[0;32m     65\u001b[0m     \u001b[38;5;28;01melse\u001b[39;00m:\n\u001b[0;32m     66\u001b[0m         x, y \u001b[38;5;241m=\u001b[39m _broadcast_arrays((x, y), axis\u001b[38;5;241m=\u001b[39maxis)\n\u001b[1;32m---> 67\u001b[0m         d \u001b[38;5;241m=\u001b[39m x \u001b[38;5;241m-\u001b[39m y\n\u001b[0;32m     68\u001b[0m     d \u001b[38;5;241m=\u001b[39m np\u001b[38;5;241m.\u001b[39mmoveaxis(d, axis, \u001b[38;5;241m-\u001b[39m\u001b[38;5;241m1\u001b[39m)\n\u001b[0;32m     69\u001b[0m \u001b[38;5;28;01mexcept\u001b[39;00m np\u001b[38;5;241m.\u001b[39mAxisError \u001b[38;5;28;01mas\u001b[39;00m e:\n",
      "\u001b[1;31mValueError\u001b[0m: operands could not be broadcast together with shapes (6,) (7,) "
     ]
    }
   ],
   "source": [
    "ssml_both = ttest_ind(ssml['valence'], control['valence'])\n",
    "print(ssml_both)\n",
    "\n",
    "ssml_both = ttest_ind(ssml['valence'], control['valence'])\n",
    "print(ssml_both)\n",
    "\n",
    "#stat, p = wilcoxon(ssml['valence'], control['valence'])\n",
    "\n",
    "# Mann-Whitney U Test (non-parametric, independent)\n",
    "u_stat, u_p = mannwhitneyu(ssml['valence'], control['valence'])\n",
    "print(f\"Mann-Whitney U Test: U-statistic = {u_stat}, p-value = {u_p}\")\n",
    "\n",
    "print(f\"Wilcoxon Test Statistic: {stat}, p-value: {p}\")\n",
    "\n"
   ]
  }
 ],
 "metadata": {
  "kernelspec": {
   "display_name": "base",
   "language": "python",
   "name": "python3"
  },
  "language_info": {
   "codemirror_mode": {
    "name": "ipython",
    "version": 3
   },
   "file_extension": ".py",
   "mimetype": "text/x-python",
   "name": "python",
   "nbconvert_exporter": "python",
   "pygments_lexer": "ipython3",
   "version": "3.12.4"
  }
 },
 "nbformat": 4,
 "nbformat_minor": 2
}
